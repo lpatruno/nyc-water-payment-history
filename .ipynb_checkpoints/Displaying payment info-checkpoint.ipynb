{
 "cells": [
  {
   "cell_type": "code",
   "execution_count": 1,
   "metadata": {
    "collapsed": true
   },
   "outputs": [],
   "source": [
    "import ast\n",
    "import mechanize\n",
    "from BeautifulSoup import BeautifulSoup\n",
    "import numpy as np\n",
    "import pandas as pd\n",
    "from time import time\n",
    "from datetime import datetime"
   ]
  },
  {
   "cell_type": "code",
   "execution_count": 2,
   "metadata": {
    "collapsed": true
   },
   "outputs": [],
   "source": [
    "with open('account_numbers.txt', 'r') as f:\n",
    "    account_lines = f.readlines()"
   ]
  },
  {
   "cell_type": "code",
   "execution_count": 3,
   "metadata": {
    "collapsed": false
   },
   "outputs": [],
   "source": [
    "account_nums = []\n",
    "\n",
    "for example in account_lines:\n",
    "    block = example[:5]\n",
    "    lot = example[6:10]\n",
    "    info = ast.literal_eval(example[11:])\n",
    "    if info != None:\n",
    "        acct = info[2]\n",
    "        account_nums.append(acct.encode('ascii','ignore'))\n",
    "    #print info"
   ]
  },
  {
   "cell_type": "code",
   "execution_count": 4,
   "metadata": {
    "collapsed": true
   },
   "outputs": [],
   "source": [
    "pages = {}\n",
    "times = []"
   ]
  },
  {
   "cell_type": "code",
   "execution_count": 5,
   "metadata": {
    "collapsed": false
   },
   "outputs": [
    {
     "name": "stdout",
     "output_type": "stream",
     "text": [
      "Current request took: 9.23906493187 seconds\n",
      "Average time per request: 9.23906493187 seconds\n",
      "Num pages scraped: 1\n",
      "Current request took: 7.78889894485 seconds\n",
      "Average time per request: 8.51398193836 seconds\n",
      "Num pages scraped: 2\n",
      "Current request took: 7.57284283638 seconds\n",
      "Average time per request: 8.20026890437 seconds\n",
      "Num pages scraped: 3\n",
      "Current request took: 7.1881070137 seconds\n",
      "Average time per request: 7.9472284317 seconds\n",
      "Num pages scraped: 4\n",
      "Current request took: 7.95972895622 seconds\n",
      "Average time per request: 7.94972853661 seconds\n",
      "Num pages scraped: 5\n",
      "Current request took: 7.69737100601 seconds\n",
      "Average time per request: 7.90766894817 seconds\n",
      "Num pages scraped: 6\n",
      "Current request took: 8.89435195923 seconds\n",
      "Average time per request: 8.04862366404 seconds\n",
      "Num pages scraped: 7\n",
      "Current request took: 13.1047239304 seconds\n",
      "Average time per request: 8.68063619733 seconds\n",
      "Num pages scraped: 8\n",
      "Current request took: 18.3859269619 seconds\n",
      "Average time per request: 9.75900183784 seconds\n",
      "Num pages scraped: 9\n",
      "Current request took: 9.47014403343 seconds\n",
      "Average time per request: 9.7301160574 seconds\n",
      "Num pages scraped: 10\n",
      "Current request took: 8.74529790878 seconds\n",
      "Average time per request: 9.64058713479 seconds\n",
      "Num pages scraped: 11\n",
      "Current request took: 7.75683712959 seconds\n",
      "Average time per request: 9.48360796769 seconds\n",
      "Num pages scraped: 12\n",
      "Current request took: 8.399736166 seconds\n",
      "Average time per request: 9.40023321372 seconds\n",
      "Num pages scraped: 13\n",
      "Current request took: 9.31152105331 seconds\n",
      "Average time per request: 9.39389663083 seconds\n",
      "Num pages scraped: 14\n",
      "Current request took: 9.13097500801 seconds\n",
      "Average time per request: 9.37636852264 seconds\n",
      "Num pages scraped: 15\n",
      "Current request took: 8.39984703064 seconds\n",
      "Average time per request: 9.31533592939 seconds\n",
      "Num pages scraped: 16\n",
      "Current request took: 9.51149511337 seconds\n",
      "Average time per request: 9.32687470492 seconds\n",
      "Num pages scraped: 17\n",
      "Current request took: 8.29740285873 seconds\n",
      "Average time per request: 9.26968182458 seconds\n",
      "Num pages scraped: 18\n",
      "Current request took: 7.77483797073 seconds\n",
      "Average time per request: 9.19100583227 seconds\n",
      "Num pages scraped: 19\n",
      "Current request took: 8.42485809326 seconds\n",
      "Average time per request: 9.15269844532 seconds\n",
      "Num pages scraped: 20\n",
      "Current request took: 7.68930602074 seconds\n",
      "Average time per request: 9.08301309177 seconds\n",
      "Num pages scraped: 21\n",
      "Current request took: 7.49424481392 seconds\n",
      "Average time per request: 9.01079635187 seconds\n",
      "Num pages scraped: 22\n",
      "Current request took: 7.62523508072 seconds\n",
      "Average time per request: 8.95055455747 seconds\n",
      "Num pages scraped: 23\n",
      "Current request took: 7.08128499985 seconds\n",
      "Average time per request: 8.8726683259 seconds\n",
      "Num pages scraped: 24\n",
      "Current request took: 7.25192308426 seconds\n",
      "Average time per request: 8.80783851624 seconds\n",
      "Num pages scraped: 25\n",
      "Current request took: 7.32772707939 seconds\n",
      "Average time per request: 8.75091115328 seconds\n",
      "Num pages scraped: 26\n",
      "Current request took: 8.09966993332 seconds\n",
      "Average time per request: 8.7267911081 seconds\n",
      "Num pages scraped: 27\n",
      "Current request took: 8.84002590179 seconds\n",
      "Average time per request: 8.73083520787 seconds\n",
      "Num pages scraped: 28\n",
      "Current request took: 7.34508299828 seconds\n",
      "Average time per request: 8.68305064892 seconds\n",
      "Num pages scraped: 29\n",
      "Current request took: 9.40381622314 seconds\n",
      "Average time per request: 8.70707616806 seconds\n",
      "Num pages scraped: 30\n",
      "Current request took: 7.862885952 seconds\n",
      "Average time per request: 8.67984422561 seconds\n",
      "Num pages scraped: 31\n",
      "Current request took: 8.08511304855 seconds\n",
      "Average time per request: 8.66125887632 seconds\n",
      "Num pages scraped: 32\n",
      "Current request took: 10.1980819702 seconds\n",
      "Average time per request: 8.70782927311 seconds\n",
      "Num pages scraped: 33\n",
      "Current request took: 9.47666096687 seconds\n",
      "Average time per request: 8.73044196998 seconds\n",
      "Num pages scraped: 34\n",
      "Current request took: 10.8733999729 seconds\n",
      "Average time per request: 8.7916693415 seconds\n",
      "Num pages scraped: 35\n",
      "Current request took: 10.4189689159 seconds\n",
      "Average time per request: 8.83687210745 seconds\n",
      "Num pages scraped: 36\n",
      "Current request took: 9.01799178123 seconds\n",
      "Average time per request: 8.84176723377 seconds\n",
      "Num pages scraped: 37\n",
      "Current request took: 6.85748696327 seconds\n",
      "Average time per request: 8.78954933192 seconds\n",
      "Num pages scraped: 38\n",
      "Current request took: 8.0620598793 seconds\n",
      "Average time per request: 8.77089575621 seconds\n",
      "Num pages scraped: 39\n",
      "Current request took: 11.5193579197 seconds\n",
      "Average time per request: 8.8396073103 seconds\n",
      "Num pages scraped: 40\n",
      "Current request took: 7.72193288803 seconds\n",
      "Average time per request: 8.81234695853 seconds\n",
      "Num pages scraped: 41\n",
      "Current request took: 9.35045099258 seconds\n",
      "Average time per request: 8.82515895934 seconds\n",
      "Num pages scraped: 42\n",
      "Current request took: 9.61889886856 seconds\n",
      "Average time per request: 8.843618027 seconds\n",
      "Num pages scraped: 43\n",
      "Current request took: 7.99388504028 seconds\n",
      "Average time per request: 8.82430591367 seconds\n",
      "Num pages scraped: 44\n",
      "Current request took: 7.57380890846 seconds\n",
      "Average time per request: 8.79651709133 seconds\n",
      "Num pages scraped: 45\n",
      "Current request took: 8.64041090012 seconds\n",
      "Average time per request: 8.79312347847 seconds\n",
      "Num pages scraped: 46\n",
      "Current request took: 7.74209499359 seconds\n",
      "Average time per request: 8.77076117029 seconds\n",
      "Num pages scraped: 47\n"
     ]
    }
   ],
   "source": [
    "for acct_num in account_nums:\n",
    "\n",
    "    t0 = time()\n",
    "    \n",
    "    br = mechanize.Browser()\n",
    "    site = 'http://nycserv.nyc.gov/NYCServWeb/WaterChargeHistorySearch.jsp'\n",
    "    br.open(site)\n",
    "\n",
    "    br.select_form(name=\"NycservProtocolForm\")\n",
    "\n",
    "    # Set form data\n",
    "    br.form['WATER_PAYMENT_HISTORY_ACC_NUMBER'] = acct_num\n",
    "\n",
    "    br.form.find_control(\"ServiceName\").readonly = False\n",
    "    br.form.find_control(\"LinkType\").readonly = False\n",
    "    br.form.find_control(\"NycservRequest\").readonly = False\n",
    "\n",
    "    br.form['ServiceName'] = 'DEP_WATER_PAYMENT_HISTORY_SEARCH'\n",
    "    br.form['LinkType'] = 'EMPTY'\n",
    "    br.form['NycservRequest'] = 'ChannelType=ct/Browser|RequestType=rt/Business|SubSystemType=st/Payments|AgencyType=at/ECB|ServiceName=DEP_WATER_PAYMENT_HISTORY_SEARCH|MethodName=NONE|ParamCount=undefined|WATER_PAYMENT_HISTORY_ACC_NUMBER={}|BOROUGH=1|BLOCK=|LOT=|PageID=WaterChargeHistorySearch|LinkType=EMPTY'.format(acct_num)\n",
    "\n",
    "    # Submit form\n",
    "    form_submit = br.submit()\n",
    "    get_acct_number_html = form_submit.read()\n",
    "    soup = BeautifulSoup(get_acct_number_html)\n",
    "    pages[acct_num] = soup\n",
    "    \n",
    "    t1 = time()\n",
    "    total = t1 - t0\n",
    "    times.append(total)\n",
    "    \n",
    "    print 'Current request took: {} seconds'.format(total)\n",
    "    print 'Average time per request: {} seconds'.format(sum(times)/float(len(times)))\n",
    "    print 'Num pages scraped: {}'.format(len(pages.keys()))"
   ]
  },
  {
   "cell_type": "code",
   "execution_count": 6,
   "metadata": {
    "collapsed": true
   },
   "outputs": [],
   "source": [
    "dfs = {}"
   ]
  },
  {
   "cell_type": "code",
   "execution_count": 7,
   "metadata": {
    "collapsed": false
   },
   "outputs": [],
   "source": [
    "for acct_num, soup in pages.items():\n",
    "\n",
    "    form = soup.findAll('form')\n",
    "    tables = soup.findAll('table')\n",
    "    payments = tables[4]\n",
    "\n",
    "    rows = payments.findAll('tr')\n",
    "\n",
    "    header = rows[0]\n",
    "    cols = header.findAll('td')\n",
    "\n",
    "    names = []\n",
    "\n",
    "    for col in cols:\n",
    "        raw = col.contents[0]\n",
    "        if '&nbsp;' in raw:\n",
    "            raw = raw.replace('&nbsp;', '')\n",
    "        raw = raw.encode('ascii','ignore')\n",
    "        names.append(raw.lstrip('\\r\\n\\t'))\n",
    "\n",
    "    all_rows = []\n",
    "\n",
    "    data = rows[1:]\n",
    "\n",
    "    for row in data:\n",
    "        data_cols = row.findAll('td')\n",
    "        row_data = []\n",
    "\n",
    "        for col in data_cols:\n",
    "            raw = col.contents[0]\n",
    "            if '&nbsp;' in raw:\n",
    "                raw = raw.replace('&nbsp;', '')\n",
    "            raw = raw.encode('ascii','ignore')\n",
    "            row_data.append(raw.rstrip('\\n'))\n",
    "\n",
    "        all_rows.append(row_data)\n",
    "\n",
    "    all_rows = np.array(all_rows)\n",
    "\n",
    "    dfs[acct_num] = pd.DataFrame(all_rows[:,1:], columns=names[1:] )"
   ]
  },
  {
   "cell_type": "code",
   "execution_count": 8,
   "metadata": {
    "collapsed": false
   },
   "outputs": [],
   "source": [
    "for acct_num, df in dfs.items():\n",
    "    try:\n",
    "        df['Amount'] = df['Amount'].apply(lambda x: x.replace(',', ''))\n",
    "        df['Amount'] = df['Amount'].astype(float)\n",
    "        df['Date'] = df['Date'].apply(lambda x: datetime.strptime(x, '%m/%d/%Y'))\n",
    "    except Exception as e:\n",
    "        print 'error with dataframe:'\n",
    "        print e\n",
    "        print df"
   ]
  },
  {
   "cell_type": "code",
   "execution_count": 37,
   "metadata": {
    "collapsed": false
   },
   "outputs": [],
   "source": [
    "from ipywidgets.widgets import Select\n",
    "from IPython.display import display, clear_output"
   ]
  },
  {
   "cell_type": "code",
   "execution_count": 24,
   "metadata": {
    "collapsed": true
   },
   "outputs": [],
   "source": [
    "with open('account_numbers.txt', 'r') as f:\n",
    "    account_lines = f.readlines()\n",
    "    \n",
    "lot_to_acct = {}\n",
    "\n",
    "for example in account_lines:\n",
    "    block = example[:5]\n",
    "    lot = example[6:10]\n",
    "    info = ast.literal_eval(example[11:])\n",
    "    if info != None:\n",
    "        acct = info[2]\n",
    "        lot_to_acct[lot] = acct.encode('ascii','ignore')"
   ]
  },
  {
   "cell_type": "code",
   "execution_count": 47,
   "metadata": {
    "collapsed": false
   },
   "outputs": [],
   "source": [
    "lot = Select(description='Choose a lot:', height='200px', options=lot_to_acct.keys())"
   ]
  },
  {
   "cell_type": "code",
   "execution_count": 51,
   "metadata": {
    "collapsed": true
   },
   "outputs": [],
   "source": [
    "def display_df():\n",
    "    clear_output()\n",
    "    acct_num = lot_to_acct[lot.value]\n",
    "    print 'Total: {}'.format(dfs[acct_num]['Amount'].sum())\n",
    "    print\n",
    "    display(dfs[acct_num])\n",
    "\n",
    "lot.on_trait_change(display_df, 'value')"
   ]
  },
  {
   "cell_type": "code",
   "execution_count": 52,
   "metadata": {
    "collapsed": false
   },
   "outputs": [
    {
     "name": "stdout",
     "output_type": "stream",
     "text": [
      "Total: 3537.84\n",
      "\n"
     ]
    },
    {
     "data": {
      "text/html": [
       "<div style=\"max-height:1000px;max-width:1500px;overflow:auto;\">\n",
       "<table border=\"1\" class=\"dataframe\">\n",
       "  <thead>\n",
       "    <tr style=\"text-align: right;\">\n",
       "      <th></th>\n",
       "      <th>Date</th>\n",
       "      <th>Transaction Type</th>\n",
       "      <th>Amount</th>\n",
       "    </tr>\n",
       "  </thead>\n",
       "  <tbody>\n",
       "    <tr>\n",
       "      <th>0</th>\n",
       "      <td>2014-11-10</td>\n",
       "      <td>Payment</td>\n",
       "      <td>680.39</td>\n",
       "    </tr>\n",
       "    <tr>\n",
       "      <th>1</th>\n",
       "      <td>2015-02-17</td>\n",
       "      <td>Payment</td>\n",
       "      <td>776.22</td>\n",
       "    </tr>\n",
       "    <tr>\n",
       "      <th>2</th>\n",
       "      <td>2015-05-28</td>\n",
       "      <td>Payment</td>\n",
       "      <td>709.14</td>\n",
       "    </tr>\n",
       "    <tr>\n",
       "      <th>3</th>\n",
       "      <td>2015-08-06</td>\n",
       "      <td>Payment</td>\n",
       "      <td>641.87</td>\n",
       "    </tr>\n",
       "    <tr>\n",
       "      <th>4</th>\n",
       "      <td>2015-11-05</td>\n",
       "      <td>Payment</td>\n",
       "      <td>730.22</td>\n",
       "    </tr>\n",
       "  </tbody>\n",
       "</table>\n",
       "</div>"
      ],
      "text/plain": [
       "        Date Transaction Type  Amount\n",
       "0 2014-11-10          Payment  680.39\n",
       "1 2015-02-17          Payment  776.22\n",
       "2 2015-05-28          Payment  709.14\n",
       "3 2015-08-06          Payment  641.87\n",
       "4 2015-11-05          Payment  730.22"
      ]
     },
     "metadata": {},
     "output_type": "display_data"
    }
   ],
   "source": [
    "display(lot)"
   ]
  },
  {
   "cell_type": "code",
   "execution_count": 58,
   "metadata": {
    "collapsed": false
   },
   "outputs": [
    {
     "data": {
      "text/plain": [
       "',Date,Transaction Type,Amount\\n0,2014-11-19,Payment,574.98\\n1,2014-12-31,Payment,249.16\\n2,2015-04-22,Payment,507.9\\n3,2015-07-15,Payment,354.57\\n4,2015-08-19,Payment,195.36\\n5,2015-09-16,Payment,148.02\\n6,2015-10-20,Payment,177.62\\n7,2015-11-18,Payment,98.54\\n'"
      ]
     },
     "execution_count": 58,
     "metadata": {},
     "output_type": "execute_result"
    }
   ],
   "source": [
    "df.to_csv()"
   ]
  },
  {
   "cell_type": "code",
   "execution_count": 61,
   "metadata": {
    "collapsed": true
   },
   "outputs": [],
   "source": [
    "# Persist all data"
   ]
  },
  {
   "cell_type": "code",
   "execution_count": 72,
   "metadata": {
    "collapsed": false
   },
   "outputs": [],
   "source": [
    "with open('account_numbers.txt', 'r') as f:\n",
    "    account_lines = f.readlines()\n",
    "    \n",
    "with open('payments.txt', 'w') as f:\n",
    "    \n",
    "    #f.write('block,lot,account,name,address,total_payment,\\ndf')\n",
    "    \n",
    "    for example in account_lines:\n",
    "        block = example[:5]\n",
    "        lot = example[6:10]\n",
    "        info = ast.literal_eval(example[11:])\n",
    "        if info != None:\n",
    "            name = info[0].encode('ascii','ignore')\n",
    "            address = info[1].encode('ascii','ignore')\n",
    "            address = address.replace(',', ' ')\n",
    "            address = address.replace('\\n', ' ')\n",
    "            acct_num = info[2].encode('ascii','ignore')\n",
    "            df = dfs[acct_num]\n",
    "            csv = df.to_csv()\n",
    "            total = df['Amount'].sum()\n",
    "            line = '{},{},{},{},{},{},\\n{}\\n'.format(block, lot, acct_num, name, address, total, csv)\n",
    "            f.write(line)"
   ]
  },
  {
   "cell_type": "code",
   "execution_count": null,
   "metadata": {
    "collapsed": true
   },
   "outputs": [],
   "source": []
  }
 ],
 "metadata": {
  "kernelspec": {
   "display_name": "Python 2",
   "language": "python",
   "name": "python2"
  },
  "language_info": {
   "codemirror_mode": {
    "name": "ipython",
    "version": 2
   },
   "file_extension": ".py",
   "mimetype": "text/x-python",
   "name": "python",
   "nbconvert_exporter": "python",
   "pygments_lexer": "ipython2",
   "version": "2.7.9"
  }
 },
 "nbformat": 4,
 "nbformat_minor": 0
}
